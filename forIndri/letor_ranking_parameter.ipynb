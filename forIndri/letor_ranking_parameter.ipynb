{
 "cells": [
  {
   "cell_type": "code",
   "execution_count": 9,
   "metadata": {
    "collapsed": true
   },
   "outputs": [],
   "source": [
    "mq_queries = \"/home/thiziri/Documents/DOCTORAT/COLLECTION/trec_million_queries/RetrievalParameterFile_MQ2007.xml\"\n",
    "judgements = \"/home/thiziri/Documents/DOCTORAT/COLLECTION/trec_million_queries/GOV2/judgment/filtred_1relDoc_min\"\n",
    "out = \"/home/thiziri/Documents/DOCTORAT/COLLECTION/trec_million_queries/letor_MQ2007_1relDocMin.xml\""
   ]
  },
  {
   "cell_type": "code",
   "execution_count": 10,
   "metadata": {},
   "outputs": [],
   "source": [
    "from xml.etree import ElementTree\n",
    "from xml.dom import minidom\n",
    "\n",
    "def prettify(elem):\n",
    "    \"\"\"\n",
    "    Return a pretty-printed XML string for the Element.\n",
    "    \"\"\"\n",
    "    rough_string = ElementTree.tostring(elem, 'utf-8')\n",
    "    reparsed = minidom.parseString(rough_string)\n",
    "    return reparsed.toprettyxml(indent=\"  \").replace(\"<?xml version=\\\"1.0\\\" ?>\\n\", \"\")\n",
    "\n",
    "\n",
    "\"\"\"\n",
    "read unique values from column n in the file f\n",
    "\"\"\"\n",
    "def read_values(f, n):\n",
    "    inf = open(f, \"r\")\n",
    "    lines = inf.readlines()\n",
    "    result = []\n",
    "    for x in lines:\n",
    "        result.append(x.split()[n])\n",
    "    inf.close()\n",
    "    return set(result)"
   ]
  },
  {
   "cell_type": "code",
   "execution_count": 17,
   "metadata": {},
   "outputs": [
    {
     "name": "stdout",
     "output_type": "stream",
     "text": [
      "1455 \t ['4117', '6212', '5331', '9260', '3552', '87', '4804', '6936', '6316', '6634']\n"
     ]
    }
   ],
   "source": [
    "import os\n",
    "\n",
    "qrels_MQ = []\n",
    "for file in os.listdir(judgements):\n",
    "    qrels_MQ += list(read_values(os.path.join(judgements, file), 0))\n",
    "qrels_MQ = set(qrels_MQ)\n",
    "\n",
    "print(len(qrels_MQ), '\\t', list(qrels_MQ)[:10])"
   ]
  },
  {
   "cell_type": "code",
   "execution_count": 19,
   "metadata": {},
   "outputs": [
    {
     "name": "stderr",
     "output_type": "stream",
     "text": [
      "\r0it [00:00, ?it/s]"
     ]
    },
    {
     "name": "stderr",
     "output_type": "stream",
     "text": [
      "\r10000it [00:00, 525417.65it/s]"
     ]
    },
    {
     "name": "stderr",
     "output_type": "stream",
     "text": [
      "\n"
     ]
    }
   ],
   "source": [
    "import xml.etree.ElementTree as ET\n",
    "from tqdm import tqdm\n",
    "\n",
    "tree = ET.parse(mq_queries)\n",
    "root = tree.getroot()\n",
    "\n",
    "c_root = ET.Element(\"parameters\")\n",
    "for query in tqdm(root.iter('query')):\n",
    "    q_id, q_txt = query.findtext(\"number\"), query.findtext(\"text\").strip()\n",
    "    if q_id in qrels_MQ:\n",
    "        # print(q_id, q_txt)\n",
    "        c_query = ET.SubElement(c_root, \"query\")\n",
    "        type_ = ET.SubElement(c_query, \"type\")\n",
    "        type_.text = \"indri\"\n",
    "        num = ET.SubElement(c_query, \"number\")\n",
    "        num.text = q_id\n",
    "        text = ET.SubElement(c_query, \"text\")\n",
    "        text.text = q_txt\n",
    "\n",
    "with open(out, 'w') as q_out:\n",
    "    q_out.write(prettify(c_root))"
   ]
  },
  {
   "cell_type": "code",
   "execution_count": null,
   "metadata": {},
   "outputs": [],
   "source": []
  }
 ],
 "metadata": {
  "kernelspec": {
   "display_name": "Python 2",
   "language": "python",
   "name": "python2"
  },
  "language_info": {
   "codemirror_mode": {
    "name": "ipython",
    "version": 2
   },
   "file_extension": ".py",
   "mimetype": "text/x-python",
   "name": "python",
   "nbconvert_exporter": "python",
   "pygments_lexer": "ipython2",
   "version": "2.7.6"
  }
 },
 "nbformat": 4,
 "nbformat_minor": 0
}
